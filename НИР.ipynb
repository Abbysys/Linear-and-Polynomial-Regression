{
 "cells": [
  {
   "cell_type": "code",
   "execution_count": 125,
   "id": "7f0fe6d8",
   "metadata": {},
   "outputs": [],
   "source": [
    "import scipy.io\n",
    "import pandas as pd\n",
    "import numpy as np\n",
    "import matplotlib.pyplot as plt\n",
    "import seaborn as sns\n",
    "%matplotlib inline"
   ]
  },
  {
   "cell_type": "markdown",
   "id": "4153b168",
   "metadata": {},
   "source": [
    "# Объединение полученных данных"
   ]
  },
  {
   "cell_type": "code",
   "execution_count": 126,
   "id": "8a3490c5",
   "metadata": {},
   "outputs": [],
   "source": [
    "input_learn = scipy.io.loadmat('input_learn.mat')\n",
    "input_test = scipy.io.loadmat('input_test.mat')\n",
    "\n",
    "result_learn = scipy.io.loadmat('result_learn.mat')\n",
    "result_test = scipy.io.loadmat('result_test.mat')"
   ]
  },
  {
   "cell_type": "code",
   "execution_count": 127,
   "id": "1e17de8b",
   "metadata": {},
   "outputs": [],
   "source": [
    "# Я создаю один общий DataFrame, далее уже буду разбивать как удобно\n",
    "df_input_l = pd.DataFrame(input_learn['input'])\n",
    "df_input_t = pd.DataFrame(input_test['input'])\n",
    "\n",
    "df_result_l = pd.DataFrame(result_learn['result'])\n",
    "df_result_t = pd.DataFrame(result_test['result'])"
   ]
  },
  {
   "cell_type": "code",
   "execution_count": 128,
   "id": "e5d9842d",
   "metadata": {},
   "outputs": [],
   "source": [
    "# Сначала соединяем снизу соответствующие input из обучающей и тестовой выборки\n",
    "input_group_10e1 = pd.concat([df_input_l[:10000], df_input_t[:10000]], ignore_index=True)\n",
    "input_group_10e2 = pd.concat([df_input_l[10000:20000], df_input_t[10000:20000]], ignore_index=True)\n",
    "input_group_10e3 = pd.concat([df_input_l[20000:30000], df_input_t[20000:30000]], ignore_index=True)\n",
    "input_group_10e4 = pd.concat([df_input_l[30000:], df_input_t[30000:40000]], ignore_index=True)"
   ]
  },
  {
   "cell_type": "code",
   "execution_count": 129,
   "id": "c33c4a1d",
   "metadata": {},
   "outputs": [],
   "source": [
    "# Аналогично соединяем results\n",
    "result_group_10e1 = pd.concat([df_result_l[:10000], df_result_t[:10000]], ignore_index=True)\n",
    "result_group_10e2 = pd.concat([df_result_l[10000:20000], df_result_t[10000:20000]], ignore_index=True)\n",
    "result_group_10e3 = pd.concat([df_result_l[20000:30000], df_result_t[20000:30000]], ignore_index=True)\n",
    "result_group_10e4 = pd.concat([df_result_l[30000:], df_result_t[30000:]], ignore_index=True)"
   ]
  },
  {
   "cell_type": "code",
   "execution_count": 130,
   "id": "53d31ced",
   "metadata": {},
   "outputs": [],
   "source": [
    "# Далее конкатинацией справа мы склеиваем нужные части из input'ов и result'ов\n",
    "full_group_e1 = pd.concat([input_group_10e1, result_group_10e1], axis=1, ignore_index=True)\n",
    "full_group_e2 = pd.concat([input_group_10e2, result_group_10e2], axis=1, ignore_index=True)\n",
    "full_group_e3 = pd.concat([input_group_10e3, result_group_10e3], axis=1, ignore_index=True)\n",
    "full_group_e4 = pd.concat([input_group_10e4, result_group_10e4], axis=1, ignore_index=True)"
   ]
  },
  {
   "cell_type": "code",
   "execution_count": 131,
   "id": "0333ff31",
   "metadata": {},
   "outputs": [],
   "source": [
    "# И финальная конкатенация, где мы все соединяем в один большой DataFrame из 80000 строк и 21 столбцов\n",
    "data = pd.concat([full_group_e1, full_group_e2, full_group_e3, full_group_e4], ignore_index=True)\n",
    "MAE = []\n",
    "MSE = []\n",
    "RMSE = []"
   ]
  },
  {
   "cell_type": "code",
   "execution_count": 132,
   "id": "d7172025",
   "metadata": {},
   "outputs": [
    {
     "name": "stdout",
     "output_type": "stream",
     "text": [
      "<class 'pandas.core.frame.DataFrame'>\n",
      "RangeIndex: 80000 entries, 0 to 79999\n",
      "Data columns (total 21 columns):\n",
      " #   Column  Non-Null Count  Dtype  \n",
      "---  ------  --------------  -----  \n",
      " 0   0       80000 non-null  float64\n",
      " 1   1       80000 non-null  float64\n",
      " 2   2       80000 non-null  float64\n",
      " 3   3       80000 non-null  float64\n",
      " 4   4       80000 non-null  float64\n",
      " 5   5       80000 non-null  float64\n",
      " 6   6       80000 non-null  float64\n",
      " 7   7       80000 non-null  float64\n",
      " 8   8       80000 non-null  float64\n",
      " 9   9       80000 non-null  float64\n",
      " 10  10      80000 non-null  float64\n",
      " 11  11      80000 non-null  float64\n",
      " 12  12      80000 non-null  float64\n",
      " 13  13      80000 non-null  float64\n",
      " 14  14      80000 non-null  float64\n",
      " 15  15      80000 non-null  float64\n",
      " 16  16      80000 non-null  float64\n",
      " 17  17      80000 non-null  float64\n",
      " 18  18      80000 non-null  float64\n",
      " 19  19      80000 non-null  float64\n",
      " 20  20      80000 non-null  float64\n",
      "dtypes: float64(21)\n",
      "memory usage: 12.8 MB\n"
     ]
    }
   ],
   "source": [
    "data.info()"
   ]
  },
  {
   "cell_type": "markdown",
   "id": "ddab581c",
   "metadata": {},
   "source": [
    "# Линейная Регрессия"
   ]
  },
  {
   "cell_type": "code",
   "execution_count": 133,
   "id": "d483e418",
   "metadata": {
    "scrolled": false
   },
   "outputs": [
    {
     "name": "stdout",
     "output_type": "stream",
     "text": [
      "MAE: 2487.2684360775397\n",
      "MSE: 30094560.745897807\n",
      "RMSE: 5485.85095914005\n",
      "R^2: 0.9978288568823274\n"
     ]
    },
    {
     "data": {
      "image/png": "[encoded data removed]",
      "text/plain": [
       "<Figure size 432x288 with 1 Axes>"
      ]
     },
     "metadata": {
      "needs_background": "light"
     },
     "output_type": "display_data"
    }
   ],
   "source": [
    "from sklearn.model_selection import train_test_split\n",
    "X_train, X_test, y_train, y_test = train_test_split(data.drop(20, axis=1, inplace=False), data[20], test_size=0.3, random_state=101)\n",
    "\n",
    "from sklearn.linear_model import LinearRegression\n",
    "lm1 = LinearRegression()\n",
    "lm1.fit(X_train,y_train)\n",
    "\n",
    "predictions = lm1.predict(X_test)\n",
    "plt.scatter(y_test,predictions)\n",
    "\n",
    "from sklearn import metrics\n",
    "MAE.append(metrics.mean_absolute_error(y_test, predictions))\n",
    "MSE.append(metrics.mean_squared_error(y_test, predictions))\n",
    "RMSE.append(np.sqrt(metrics.mean_squared_error(y_test, predictions)))\n",
    "\n",
    "print('MAE:', MAE[0])\n",
    "print('MSE:', MSE[0])\n",
    "print('RMSE:', RMSE[0])\n",
    "print('R^2:', metrics.r2_score(y_test, predictions))\n",
    "\n",
    "# plt.savefig('Linear_Regression_TestSize=30%')"
   ]
  },
  {
   "cell_type": "markdown",
   "id": "f42ebd47",
   "metadata": {},
   "source": [
    "# Степень 2"
   ]
  },
  {
   "cell_type": "code",
   "execution_count": 134,
   "id": "589f5d56",
   "metadata": {},
   "outputs": [
    {
     "name": "stdout",
     "output_type": "stream",
     "text": [
      "MAE: 2198.30305453333\n",
      "MSE: 23858376.881937236\n",
      "RMSE: 4884.503749812998\n",
      "R^2: 0.9982787603645912\n"
     ]
    },
    {
     "data": {
      "image/png": "[encoded data removed]",
      "text/plain": [
       "<Figure size 432x288 with 1 Axes>"
      ]
     },
     "metadata": {
      "needs_background": "light"
     },
     "output_type": "display_data"
    }
   ],
   "source": [
    "from sklearn.model_selection import train_test_split\n",
    "X_train, X_test, y_train, y_test = train_test_split(data.drop(20, axis=1, inplace=False), data[20], test_size=0.3, random_state=101)\n",
    "\n",
    "from sklearn.preprocessing import PolynomialFeatures\n",
    "poly = PolynomialFeatures(degree=2)\n",
    "X_train = poly.fit_transform(X_train)\n",
    "X_test = poly.fit_transform(X_test)\n",
    "\n",
    "\n",
    "from sklearn.linear_model import LinearRegression\n",
    "lm2 = LinearRegression()\n",
    "lm2.fit(X_train,y_train)\n",
    "\n",
    "predictions = lm2.predict(X_test)\n",
    "plt.scatter(y_test,predictions)\n",
    "\n",
    "from sklearn import metrics\n",
    "MAE.append(metrics.mean_absolute_error(y_test, predictions))\n",
    "MSE.append(metrics.mean_squared_error(y_test, predictions))\n",
    "RMSE.append(np.sqrt(metrics.mean_squared_error(y_test, predictions)))\n",
    "\n",
    "print('MAE:', MAE[1])\n",
    "print('MSE:', MSE[1])\n",
    "print('RMSE:', RMSE[1])\n",
    "print('R^2:', metrics.r2_score(y_test, predictions))\n",
    "\n",
    "# plt.savefig('Polynomial_Regression_2Degree_TestSize=30%')"
   ]
  },
  {
   "cell_type": "code",
   "execution_count": 135,
   "id": "c248e629",
   "metadata": {},
   "outputs": [
    {
     "data": {
      "text/html": [
       "<div>\n",
       "<style scoped>\n",
       "    .dataframe tbody tr th:only-of-type {\n",
       "        vertical-align: middle;\n",
       "    }\n",
       "\n",
       "    .dataframe tbody tr th {\n",
       "        vertical-align: top;\n",
       "    }\n",
       "\n",
       "    .dataframe thead th {\n",
       "        text-align: right;\n",
       "    }\n",
       "</style>\n",
       "<table border=\"1\" class=\"dataframe\">\n",
       "  <thead>\n",
       "    <tr style=\"text-align: right;\">\n",
       "      <th></th>\n",
       "      <th>True Results</th>\n",
       "      <th>Predictions</th>\n",
       "    </tr>\n",
       "  </thead>\n",
       "  <tbody>\n",
       "    <tr>\n",
       "      <th>0</th>\n",
       "      <td>263997.595451</td>\n",
       "      <td>261068.010481</td>\n",
       "    </tr>\n",
       "    <tr>\n",
       "      <th>1</th>\n",
       "      <td>30050.935987</td>\n",
       "      <td>29924.843221</td>\n",
       "    </tr>\n",
       "    <tr>\n",
       "      <th>2</th>\n",
       "      <td>3335.684044</td>\n",
       "      <td>3203.614431</td>\n",
       "    </tr>\n",
       "    <tr>\n",
       "      <th>3</th>\n",
       "      <td>268247.041152</td>\n",
       "      <td>268291.800569</td>\n",
       "    </tr>\n",
       "    <tr>\n",
       "      <th>4</th>\n",
       "      <td>27742.576169</td>\n",
       "      <td>28879.579855</td>\n",
       "    </tr>\n",
       "    <tr>\n",
       "      <th>5</th>\n",
       "      <td>296288.854594</td>\n",
       "      <td>286652.885266</td>\n",
       "    </tr>\n",
       "    <tr>\n",
       "      <th>6</th>\n",
       "      <td>275.191211</td>\n",
       "      <td>211.405118</td>\n",
       "    </tr>\n",
       "    <tr>\n",
       "      <th>7</th>\n",
       "      <td>295203.928414</td>\n",
       "      <td>287060.317578</td>\n",
       "    </tr>\n",
       "    <tr>\n",
       "      <th>8</th>\n",
       "      <td>293828.674973</td>\n",
       "      <td>283642.619375</td>\n",
       "    </tr>\n",
       "    <tr>\n",
       "      <th>9</th>\n",
       "      <td>253698.230523</td>\n",
       "      <td>258826.251789</td>\n",
       "    </tr>\n",
       "    <tr>\n",
       "      <th>10</th>\n",
       "      <td>277427.213184</td>\n",
       "      <td>280658.424290</td>\n",
       "    </tr>\n",
       "    <tr>\n",
       "      <th>11</th>\n",
       "      <td>313.150410</td>\n",
       "      <td>244.003514</td>\n",
       "    </tr>\n",
       "  </tbody>\n",
       "</table>\n",
       "</div>"
      ],
      "text/plain": [
       "     True Results    Predictions\n",
       "0   263997.595451  261068.010481\n",
       "1    30050.935987   29924.843221\n",
       "2     3335.684044    3203.614431\n",
       "3   268247.041152  268291.800569\n",
       "4    27742.576169   28879.579855\n",
       "5   296288.854594  286652.885266\n",
       "6      275.191211     211.405118\n",
       "7   295203.928414  287060.317578\n",
       "8   293828.674973  283642.619375\n",
       "9   253698.230523  258826.251789\n",
       "10  277427.213184  280658.424290\n",
       "11     313.150410     244.003514"
      ]
     },
     "execution_count": 135,
     "metadata": {},
     "output_type": "execute_result"
    }
   ],
   "source": [
    "pd.concat([y_test[:12].reset_index(drop=True), pd.Series(predictions[:12])], axis=1).rename(columns={20:'True Results', 0:'Predictions'})"
   ]
  },
  {
   "cell_type": "markdown",
   "id": "effd9e75",
   "metadata": {},
   "source": [
    "# Степень 3"
   ]
  },
  {
   "cell_type": "code",
   "execution_count": 136,
   "id": "84c5c1c3",
   "metadata": {
    "scrolled": true
   },
   "outputs": [
    {
     "name": "stdout",
     "output_type": "stream",
     "text": [
      "MAE: 2277.1514933940553\n",
      "MSE: 26827916.695941497\n",
      "RMSE: 5179.567230564876\n",
      "R^2: 0.9980645257730227\n"
     ]
    },
    {
     "data": {
      "image/png": "[encoded data removed]",
      "text/plain": [
       "<Figure size 432x288 with 1 Axes>"
      ]
     },
     "metadata": {
      "needs_background": "light"
     },
     "output_type": "display_data"
    }
   ],
   "source": [
    "from sklearn.model_selection import train_test_split\n",
    "X_train, X_test, y_train, y_test = train_test_split(data.drop(20, axis=1, inplace=False), data[20], test_size=0.3, random_state=101)\n",
    "\n",
    "from sklearn.preprocessing import PolynomialFeatures\n",
    "poly = PolynomialFeatures(degree=3)\n",
    "X_train = poly.fit_transform(X_train)\n",
    "X_test = poly.fit_transform(X_test)\n",
    "\n",
    "\n",
    "from sklearn.linear_model import LinearRegression\n",
    "lm3 = LinearRegression()\n",
    "lm3.fit(X_train,y_train)\n",
    "\n",
    "predictions = lm3.predict(X_test)\n",
    "plt.scatter(y_test,predictions)\n",
    "\n",
    "from sklearn import metrics\n",
    "MAE.append(metrics.mean_absolute_error(y_test, predictions))\n",
    "MSE.append(metrics.mean_squared_error(y_test, predictions))\n",
    "RMSE.append(np.sqrt(metrics.mean_squared_error(y_test, predictions)))\n",
    "\n",
    "print('MAE:', MAE[2])\n",
    "print('MSE:', MSE[2])\n",
    "print('RMSE:', RMSE[2])\n",
    "print('R^2:', metrics.r2_score(y_test, predictions))\n",
    "\n",
    "# plt.savefig('Polynomial_Regression_3Degree_TestSize=30%')"
   ]
  },
  {
   "cell_type": "markdown",
   "id": "d88b691a",
   "metadata": {},
   "source": [
    "# Эксперименты с размером тестовой выборки"
   ]
  },
  {
   "cell_type": "markdown",
   "id": "45d53e7c",
   "metadata": {},
   "source": [
    "## Линейная регрессия 80% test size"
   ]
  },
  {
   "cell_type": "code",
   "execution_count": 137,
   "id": "6d6b88d2",
   "metadata": {},
   "outputs": [
    {
     "name": "stdout",
     "output_type": "stream",
     "text": [
      "MAE: 2508.5419725288184\n",
      "MSE: 30773046.123303097\n",
      "RMSE: 5547.345862960331\n",
      "R^2: 0.9977746187284728\n"
     ]
    },
    {
     "data": {
      "image/png": "[encoded data removed]",
      "text/plain": [
       "<Figure size 432x288 with 1 Axes>"
      ]
     },
     "metadata": {
      "needs_background": "light"
     },
     "output_type": "display_data"
    }
   ],
   "source": [
    "from sklearn.model_selection import train_test_split\n",
    "X_train, X_test, y_train, y_test = train_test_split(data.drop(20, axis=1, inplace=False), data[20], test_size=0.8, random_state=101)\n",
    "\n",
    "from sklearn.linear_model import LinearRegression\n",
    "lm1 = LinearRegression()\n",
    "lm1.fit(X_train,y_train)\n",
    "\n",
    "predictions = lm1.predict(X_test)\n",
    "plt.scatter(y_test,predictions)\n",
    "\n",
    "from sklearn import metrics\n",
    "print('MAE:', metrics.mean_absolute_error(y_test, predictions))\n",
    "print('MSE:', metrics.mean_squared_error(y_test, predictions))\n",
    "print('RMSE:', np.sqrt(metrics.mean_squared_error(y_test, predictions)))\n",
    "print('R^2:', metrics.r2_score(y_test, predictions))\n",
    "\n",
    "# plt.savefig('Linear_Regression_TestSize=80%')"
   ]
  },
  {
   "cell_type": "markdown",
   "id": "ac1729e9",
   "metadata": {},
   "source": [
    "## 2-я Степень 80%"
   ]
  },
  {
   "cell_type": "code",
   "execution_count": 138,
   "id": "f939aad6",
   "metadata": {},
   "outputs": [
    {
     "name": "stdout",
     "output_type": "stream",
     "text": [
      "MAE: 2254.8814593193238\n",
      "MSE: 25375958.40851499\n",
      "RMSE: 5037.455549036139\n",
      "R^2: 0.9981649141146739\n"
     ]
    },
    {
     "data": {
      "image/png": "[encoded data removed]",
      "text/plain": [
       "<Figure size 432x288 with 1 Axes>"
      ]
     },
     "metadata": {
      "needs_background": "light"
     },
     "output_type": "display_data"
    }
   ],
   "source": [
    "from sklearn.model_selection import train_test_split\n",
    "X_train, X_test, y_train, y_test = train_test_split(data.drop(20, axis=1, inplace=False), data[20], test_size=0.8, random_state=101)\n",
    "\n",
    "from sklearn.preprocessing import PolynomialFeatures\n",
    "poly = PolynomialFeatures(degree=2)\n",
    "X_train = poly.fit_transform(X_train)\n",
    "X_test = poly.fit_transform(X_test)\n",
    "\n",
    "\n",
    "from sklearn.linear_model import LinearRegression\n",
    "lm2 = LinearRegression()\n",
    "lm2.fit(X_train,y_train)\n",
    "\n",
    "predictions = lm2.predict(X_test)\n",
    "plt.scatter(y_test,predictions)\n",
    "\n",
    "from sklearn import metrics\n",
    "print('MAE:', metrics.mean_absolute_error(y_test, predictions))\n",
    "print('MSE:', metrics.mean_squared_error(y_test, predictions))\n",
    "print('RMSE:', np.sqrt(metrics.mean_squared_error(y_test, predictions)))\n",
    "print('R^2:', metrics.r2_score(y_test, predictions))\n",
    "\n",
    "# plt.savefig('Polynomial_Regression_2Degree_TestSize=80%')"
   ]
  },
  {
   "cell_type": "markdown",
   "id": "5cd75242",
   "metadata": {},
   "source": [
    "## 3-я Степень 80% "
   ]
  },
  {
   "cell_type": "code",
   "execution_count": 139,
   "id": "958ac007",
   "metadata": {
    "scrolled": true
   },
   "outputs": [
    {
     "name": "stdout",
     "output_type": "stream",
     "text": [
      "MAE: 2913.1803763638463\n",
      "MSE: 48102677.599618584\n",
      "RMSE: 6935.609389204281\n",
      "R^2: 0.9965214104118396\n"
     ]
    },
    {
     "data": {
      "image/png": "[encoded data removed]",
      "text/plain": [
       "<Figure size 432x288 with 1 Axes>"
      ]
     },
     "metadata": {
      "needs_background": "light"
     },
     "output_type": "display_data"
    }
   ],
   "source": [
    "from sklearn.model_selection import train_test_split\n",
    "X_train, X_test, y_train, y_test = train_test_split(data.drop(20, axis=1, inplace=False), data[20], test_size=0.8, random_state=101)\n",
    "\n",
    "from sklearn.preprocessing import PolynomialFeatures\n",
    "poly = PolynomialFeatures(degree=3)\n",
    "X_train = poly.fit_transform(X_train)\n",
    "X_test = poly.fit_transform(X_test)\n",
    "\n",
    "\n",
    "from sklearn.linear_model import LinearRegression\n",
    "lm3 = LinearRegression()\n",
    "lm3.fit(X_train,y_train)\n",
    "\n",
    "predictions = lm3.predict(X_test)\n",
    "plt.scatter(y_test,predictions)\n",
    "\n",
    "from sklearn import metrics\n",
    "print('MAE:', metrics.mean_absolute_error(y_test, predictions))\n",
    "print('MSE:', metrics.mean_squared_error(y_test, predictions))\n",
    "print('RMSE:', np.sqrt(metrics.mean_squared_error(y_test, predictions)))\n",
    "print('R^2:',metrics.r2_score(y_test, predictions))\n",
    "\n",
    "# plt.savefig('Polynomial_Regression_3Degree_TestSize=80%')"
   ]
  }
 ],
 "metadata": {
  "kernelspec": {
   "display_name": "Python 3",
   "language": "python",
   "name": "python3"
  },
  "language_info": {
   "codemirror_mode": {
    "name": "ipython",
    "version": 3
   },
   "file_extension": ".py",
   "mimetype": "text/x-python",
   "name": "python",
   "nbconvert_exporter": "python",
   "pygments_lexer": "ipython3",
   "version": "3.8.8"
  }
 },
 "nbformat": 4,
 "nbformat_minor": 5
}
